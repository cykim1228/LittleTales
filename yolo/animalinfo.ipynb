{
 "cells": [
  {
   "cell_type": "code",
   "execution_count": 84,
   "metadata": {},
   "outputs": [],
   "source": [
    "animals=[\"Baer\",\"Cat\",\"Dog\",\"Duck\",\"Lion\",\"Panda\",\"Rabbit\",\"Tiger\",\"Turtle\",\"Duck\",\"Human\"]"
   ]
  },
  {
   "cell_type": "code",
   "execution_count": 55,
   "metadata": {},
   "outputs": [
    {
     "name": "stderr",
     "output_type": "stream",
     "text": [
      "\n",
      "image 1/1 d:\\yolo\\animalyolo\\dogcat.jpg: 256x640 2 Cats, 3 Dogs, 107.7ms\n",
      "Speed: 7.0ms preprocess, 107.7ms inference, 1.0ms postprocess per image at shape (1, 3, 256, 640)\n",
      "Results saved to \u001b[1mruns\\detect\\predict8\u001b[0m\n"
     ]
    }
   ],
   "source": [
    "from ultralytics import YOLO\n",
    "\n",
    "model = YOLO('D:/yolo/animalyolo/runs/detect/train4/weights/best.pt')\n",
    "results = model.predict(source='dogcat.jpg',show=False,save=True)#gpu로 만든모델을 show = ture로 하면 에러가 뜸\n"
   ]
  },
  {
   "cell_type": "code",
   "execution_count": 96,
   "metadata": {},
   "outputs": [
    {
     "name": "stdout",
     "output_type": "stream",
     "text": [
      "['Dog', 'Cat']\n"
     ]
    }
   ],
   "source": [
    "#욜로에서 디텍딩된 동물 이름 판별\n",
    "result_animals_name=[]\n",
    "results_group=results[0].boxes.cls #입력 사진에서 해당되는 클래스가 실수형 변수로 나옴\n",
    "for index in results_group.tolist(): \n",
    "    animal_name=animals[int(index)] #실수형 변수를 동물이름으로 변경\n",
    "    if animal_name not in result_animals_name: # 중복되는 동물이름 없앰\n",
    "        result_animals_name.append(animal_name)\n",
    "\n",
    "print(result_animals_name)\n"
   ]
  }
 ],
 "metadata": {
  "kernelspec": {
   "display_name": "myyolo",
   "language": "python",
   "name": "python3"
  },
  "language_info": {
   "codemirror_mode": {
    "name": "ipython",
    "version": 3
   },
   "file_extension": ".py",
   "mimetype": "text/x-python",
   "name": "python",
   "nbconvert_exporter": "python",
   "pygments_lexer": "ipython3",
   "version": "3.8.17"
  },
  "orig_nbformat": 4
 },
 "nbformat": 4,
 "nbformat_minor": 2
}
